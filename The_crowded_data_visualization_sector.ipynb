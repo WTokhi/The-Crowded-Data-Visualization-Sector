{
  "cells": [
    {
      "cell_type": "markdown",
      "metadata": {
        "id": "view-in-github",
        "colab_type": "text"
      },
      "source": [
        "<a href=\"https://colab.research.google.com/github/WTokhi/The-Crowded-Data-Visualization-Sector/blob/master/The_crowded_data_visualization_sector.ipynb\" target=\"_parent\"><img src=\"https://colab.research.google.com/assets/colab-badge.svg\" alt=\"Open In Colab\"/></a>"
      ]
    },
    {
      "cell_type": "markdown",
      "metadata": {
        "id": "6DOreH05Bp0n"
      },
      "source": [
        "# The Crowded Data Visualization Sector\n"
      ]
    },
    {
      "cell_type": "markdown",
      "metadata": {
        "id": "eOWSUQBjBp0r"
      },
      "source": [
        "### Matplotlib and Seaborn essentials\n",
        "\n",
        "Datavisualisatie is een belangrijke component van de skillset van elke data scientist. Binnen python ecosystem zijn er verschillende visualisatie libraries waaruit men kan kiezen en de keuze is afhankelijk van de doelstelling. Hieronder vind je een kort overzicht van de verschillende libraries.\n",
        "\n",
        "* Statistische analyse: Seaborn, Altair, Plotnine, Bokeh, Matplotlib \n",
        "* Geografische data: Geoplot\n",
        "* Grote datasets: Datashader\n",
        "\n",
        "[Matplotlib](https://matplotlib.org/) is een van de oudste datavisualisatie libraries. Het begon met het idee om de functionaliteiten van [MATLAB](https://www.mathworks.com/products/matlab.html) (is een software dat gebruikt wordt voor wiskundige toepassingen in zowel de industrie als de academische wereld) na te bootsen. De eerste versie kwam uit rond 2003 en sindsdien heeft het een grote userbase gekregen. Matplotlib wordt niet alleen gebruikt om inzichten te creeren maar er zijn ook andere python libraries die gebouwd zijn op Matplotlib zoals Seaborn, SHAP, LIME en zelfs de .plot() methode van pandas. Daarom vind ik dat ondanks welke library je uitkiest het handig is om Matplotlib in de basis te snappen. \n",
        "\n",
        "Als je meer gericht bent op statistisch onderzoek en iets nieuws wil uitproberen dan is het aan te raden om Altair te proberen. Mocht je meer wil weten dan verwijs ik je naar de blog van [Remco Rodenburg](https://colab.research.google.com/github/rrodenburg/KnowledgeSharing/blob/main/DataBaaS/gg_in_python_altair.ipynb#scrollTo=50ee8627-bae5-46ed-a637-2389c1dec1c5).\n",
        "\n",
        "Wat ik in deze blog wil laten zien is hoe ik gebruik maak van Matplotlib om (sub)plots te organiseren en customizen met als doel om mijn verhaal aan de man te brengen. Hiervoor wil ik ingaan op de de essentiële begrippen van Matplotlib zoals `Figure`, `Axes`, `Subplots` en `Gridspec`. En als laatste wil ik kort ingaan op de hierarchie van de plot functies van Seaborn en hoe ze met Matplotlib geïntegreerd zijn. Dit is handig om te weten mocht je [Seaborn](https://seaborn.pydata.org/) plot functies gebruiken in combinatie met Matplotlib voor statistische analyse. Waar deze blog niet over gaat is welk type grafieken(barplot, scatterplot, etc) wordt aangeboden door welke library want in de basis bieden alle libraries die mogelijkheid. \n",
        "\n",
        "![plot](https://github.com/WTokhi/The-Crowded-Data-Visualization-Sector/blob/master/visualization_landscape.png?raw=1)"
      ]
    },
    {
      "cell_type": "markdown",
      "metadata": {
        "id": "64qgtLiOBp0u"
      },
      "source": [
        "\n",
        "### Matplotlib plot hierarchie\n",
        "\n",
        "De Matplotlib grafiek komt met een hierarchie. Het hoogste punt in de hierarchie is het `Figure` object dat je kan vergelijken met een fotolijst waar een of meerdere plots in kunnen komen. De plots worden `Axes` genoemd in Matplotlib jargon. Hieronder in de eerste grafiek zie je een enkel `Figure` object met een enkel `Axes` object. En bij de tweede en derde grafiek zie je een `Figure` object met meerdere `Axes` objecten. De methode `.subplots()` van module `matplotlib.pyplot` kan gebruikt worden om een `Axes` en `Figure` object aan te maken. Beide objecten hebben hun eigen methoden die aangeroepen kunnen worden om de grafieken te customizen. Laten we dit aan de hand van een paar voorbeelden proberen te begrijpen.\n",
        "![plot](https://github.com/WTokhi/The-Crowded-Data-Visualization-Sector/blob/master/matplotlib_hierarchie.png?raw=1)"
      ]
    },
    {
      "cell_type": "code",
      "execution_count": null,
      "metadata": {
        "execution": {
          "iopub.execute_input": "2022-06-27T10:40:32.881648Z",
          "iopub.status.busy": "2022-06-27T10:40:32.880544Z",
          "iopub.status.idle": "2022-06-27T10:40:36.974495Z",
          "shell.execute_reply": "2022-06-27T10:40:36.973583Z",
          "shell.execute_reply.started": "2022-06-27T10:40:32.881576Z"
        },
        "trusted": true,
        "id": "_MoPj8KmBp0v",
        "outputId": "2248c785-6036-4f72-9e62-5f7be8ad16ef",
        "colab": {
          "base_uri": "https://localhost:8080/",
          "height": 206
        }
      },
      "outputs": [
        {
          "output_type": "execute_result",
          "data": {
            "text/plain": [
              "        MedInc  HouseAge  AveRooms  AveBedrms  Population  AveOccup  Latitude  \\\n",
              "8768   10.5045      36.0  6.023669   0.875740       329.0  1.946746     33.81   \n",
              "18235   4.3077      23.0  3.468379   1.003953      1374.0  2.715415     37.40   \n",
              "14375   6.5319      36.0  6.281623   1.073986      2038.0  4.863962     32.72   \n",
              "2878    0.9951      42.0  3.963211   1.197324      1038.0  3.471572     35.38   \n",
              "6113    1.5000       5.0  3.620579   1.016077       819.0  2.633441     34.13   \n",
              "\n",
              "       Longitude  MedHouseVal  \n",
              "8768     -118.38      5.00001  \n",
              "18235    -122.10      2.93500  \n",
              "14375    -117.25      3.45800  \n",
              "2878     -118.97      0.48000  \n",
              "6113     -117.90      1.39800  "
            ],
            "text/html": [
              "\n",
              "  <div id=\"df-ac2b51cd-3fa7-427c-b09a-3415690c6b7f\">\n",
              "    <div class=\"colab-df-container\">\n",
              "      <div>\n",
              "<style scoped>\n",
              "    .dataframe tbody tr th:only-of-type {\n",
              "        vertical-align: middle;\n",
              "    }\n",
              "\n",
              "    .dataframe tbody tr th {\n",
              "        vertical-align: top;\n",
              "    }\n",
              "\n",
              "    .dataframe thead th {\n",
              "        text-align: right;\n",
              "    }\n",
              "</style>\n",
              "<table border=\"1\" class=\"dataframe\">\n",
              "  <thead>\n",
              "    <tr style=\"text-align: right;\">\n",
              "      <th></th>\n",
              "      <th>MedInc</th>\n",
              "      <th>HouseAge</th>\n",
              "      <th>AveRooms</th>\n",
              "      <th>AveBedrms</th>\n",
              "      <th>Population</th>\n",
              "      <th>AveOccup</th>\n",
              "      <th>Latitude</th>\n",
              "      <th>Longitude</th>\n",
              "      <th>MedHouseVal</th>\n",
              "    </tr>\n",
              "  </thead>\n",
              "  <tbody>\n",
              "    <tr>\n",
              "      <th>8768</th>\n",
              "      <td>10.5045</td>\n",
              "      <td>36.0</td>\n",
              "      <td>6.023669</td>\n",
              "      <td>0.875740</td>\n",
              "      <td>329.0</td>\n",
              "      <td>1.946746</td>\n",
              "      <td>33.81</td>\n",
              "      <td>-118.38</td>\n",
              "      <td>5.00001</td>\n",
              "    </tr>\n",
              "    <tr>\n",
              "      <th>18235</th>\n",
              "      <td>4.3077</td>\n",
              "      <td>23.0</td>\n",
              "      <td>3.468379</td>\n",
              "      <td>1.003953</td>\n",
              "      <td>1374.0</td>\n",
              "      <td>2.715415</td>\n",
              "      <td>37.40</td>\n",
              "      <td>-122.10</td>\n",
              "      <td>2.93500</td>\n",
              "    </tr>\n",
              "    <tr>\n",
              "      <th>14375</th>\n",
              "      <td>6.5319</td>\n",
              "      <td>36.0</td>\n",
              "      <td>6.281623</td>\n",
              "      <td>1.073986</td>\n",
              "      <td>2038.0</td>\n",
              "      <td>4.863962</td>\n",
              "      <td>32.72</td>\n",
              "      <td>-117.25</td>\n",
              "      <td>3.45800</td>\n",
              "    </tr>\n",
              "    <tr>\n",
              "      <th>2878</th>\n",
              "      <td>0.9951</td>\n",
              "      <td>42.0</td>\n",
              "      <td>3.963211</td>\n",
              "      <td>1.197324</td>\n",
              "      <td>1038.0</td>\n",
              "      <td>3.471572</td>\n",
              "      <td>35.38</td>\n",
              "      <td>-118.97</td>\n",
              "      <td>0.48000</td>\n",
              "    </tr>\n",
              "    <tr>\n",
              "      <th>6113</th>\n",
              "      <td>1.5000</td>\n",
              "      <td>5.0</td>\n",
              "      <td>3.620579</td>\n",
              "      <td>1.016077</td>\n",
              "      <td>819.0</td>\n",
              "      <td>2.633441</td>\n",
              "      <td>34.13</td>\n",
              "      <td>-117.90</td>\n",
              "      <td>1.39800</td>\n",
              "    </tr>\n",
              "  </tbody>\n",
              "</table>\n",
              "</div>\n",
              "      <button class=\"colab-df-convert\" onclick=\"convertToInteractive('df-ac2b51cd-3fa7-427c-b09a-3415690c6b7f')\"\n",
              "              title=\"Convert this dataframe to an interactive table.\"\n",
              "              style=\"display:none;\">\n",
              "        \n",
              "  <svg xmlns=\"http://www.w3.org/2000/svg\" height=\"24px\"viewBox=\"0 0 24 24\"\n",
              "       width=\"24px\">\n",
              "    <path d=\"M0 0h24v24H0V0z\" fill=\"none\"/>\n",
              "    <path d=\"M18.56 5.44l.94 2.06.94-2.06 2.06-.94-2.06-.94-.94-2.06-.94 2.06-2.06.94zm-11 1L8.5 8.5l.94-2.06 2.06-.94-2.06-.94L8.5 2.5l-.94 2.06-2.06.94zm10 10l.94 2.06.94-2.06 2.06-.94-2.06-.94-.94-2.06-.94 2.06-2.06.94z\"/><path d=\"M17.41 7.96l-1.37-1.37c-.4-.4-.92-.59-1.43-.59-.52 0-1.04.2-1.43.59L10.3 9.45l-7.72 7.72c-.78.78-.78 2.05 0 2.83L4 21.41c.39.39.9.59 1.41.59.51 0 1.02-.2 1.41-.59l7.78-7.78 2.81-2.81c.8-.78.8-2.07 0-2.86zM5.41 20L4 18.59l7.72-7.72 1.47 1.35L5.41 20z\"/>\n",
              "  </svg>\n",
              "      </button>\n",
              "      \n",
              "  <style>\n",
              "    .colab-df-container {\n",
              "      display:flex;\n",
              "      flex-wrap:wrap;\n",
              "      gap: 12px;\n",
              "    }\n",
              "\n",
              "    .colab-df-convert {\n",
              "      background-color: #E8F0FE;\n",
              "      border: none;\n",
              "      border-radius: 50%;\n",
              "      cursor: pointer;\n",
              "      display: none;\n",
              "      fill: #1967D2;\n",
              "      height: 32px;\n",
              "      padding: 0 0 0 0;\n",
              "      width: 32px;\n",
              "    }\n",
              "\n",
              "    .colab-df-convert:hover {\n",
              "      background-color: #E2EBFA;\n",
              "      box-shadow: 0px 1px 2px rgba(60, 64, 67, 0.3), 0px 1px 3px 1px rgba(60, 64, 67, 0.15);\n",
              "      fill: #174EA6;\n",
              "    }\n",
              "\n",
              "    [theme=dark] .colab-df-convert {\n",
              "      background-color: #3B4455;\n",
              "      fill: #D2E3FC;\n",
              "    }\n",
              "\n",
              "    [theme=dark] .colab-df-convert:hover {\n",
              "      background-color: #434B5C;\n",
              "      box-shadow: 0px 1px 3px 1px rgba(0, 0, 0, 0.15);\n",
              "      filter: drop-shadow(0px 1px 2px rgba(0, 0, 0, 0.3));\n",
              "      fill: #FFFFFF;\n",
              "    }\n",
              "  </style>\n",
              "\n",
              "      <script>\n",
              "        const buttonEl =\n",
              "          document.querySelector('#df-ac2b51cd-3fa7-427c-b09a-3415690c6b7f button.colab-df-convert');\n",
              "        buttonEl.style.display =\n",
              "          google.colab.kernel.accessAllowed ? 'block' : 'none';\n",
              "\n",
              "        async function convertToInteractive(key) {\n",
              "          const element = document.querySelector('#df-ac2b51cd-3fa7-427c-b09a-3415690c6b7f');\n",
              "          const dataTable =\n",
              "            await google.colab.kernel.invokeFunction('convertToInteractive',\n",
              "                                                     [key], {});\n",
              "          if (!dataTable) return;\n",
              "\n",
              "          const docLinkHtml = 'Like what you see? Visit the ' +\n",
              "            '<a target=\"_blank\" href=https://colab.research.google.com/notebooks/data_table.ipynb>data table notebook</a>'\n",
              "            + ' to learn more about interactive tables.';\n",
              "          element.innerHTML = '';\n",
              "          dataTable['output_type'] = 'display_data';\n",
              "          await google.colab.output.renderOutput(dataTable, element);\n",
              "          const docLink = document.createElement('div');\n",
              "          docLink.innerHTML = docLinkHtml;\n",
              "          element.appendChild(docLink);\n",
              "        }\n",
              "      </script>\n",
              "    </div>\n",
              "  </div>\n",
              "  "
            ]
          },
          "metadata": {},
          "execution_count": 1
        }
      ],
      "source": [
        "# Laad packages\n",
        "from sklearn import datasets\n",
        "\n",
        "# Load data\n",
        "df = datasets.fetch_california_housing(return_X_y=False, as_frame=True).frame\n",
        "df.sample(5)"
      ]
    },
    {
      "cell_type": "code",
      "execution_count": null,
      "metadata": {
        "execution": {
          "iopub.execute_input": "2022-06-27T10:40:36.977264Z",
          "iopub.status.busy": "2022-06-27T10:40:36.976718Z",
          "iopub.status.idle": "2022-06-27T10:40:37.282870Z",
          "shell.execute_reply": "2022-06-27T10:40:37.281938Z",
          "shell.execute_reply.started": "2022-06-27T10:40:36.977231Z"
        },
        "trusted": true,
        "id": "5nw3MgQrBp0v",
        "outputId": "fbc5b33c-d5b8-4962-e557-dd9cd438a894",
        "colab": {
          "base_uri": "https://localhost:8080/",
          "height": 384
        }
      },
      "outputs": [
        {
          "output_type": "display_data",
          "data": {
            "text/plain": [
              "<Figure size 720x360 with 1 Axes>"
            ],
            "image/png": "[encoded data removed]"
          },
          "metadata": {
            "needs_background": "light"
          }
        }
      ],
      "source": [
        "import matplotlib.pyplot as plt\n",
        "\n",
        "# Definieer grafiek ruimte. De naam conventie voor `Figure` object is fig en voor `Axes` is ax.\n",
        "fig, ax = plt.subplots(nrows = 1, ncols=1, figsize=(10,5))\n",
        "\n",
        "# Plot\n",
        "ax.hist(df[\"MedInc\"], bins=50, color=\"#3F5D7D\", edgecolor=\"white\")\n",
        "\n",
        "# As-labels en title van de subplot\n",
        "ax.set(xlabel='Median Inkomen', ylabel='Aantal', title='Median inkomen is rechts skewed')\n",
        "\n",
        "# Een spine is een grenslijn van een plot. Verwijder de bovenste en de rechste spine van de subplot.  \n",
        "ax.spines[\"top\"].set_visible(False)  \n",
        "ax.spines[\"right\"].set_visible(False)\n",
        "\n",
        "# Met .text() methode kan text toegevoegd worden bijvoorbeeld je databron.\n",
        "fig.text(0.35, -0.05, \"Databron: sklearn.datasets.fetch_california_housing\", fontsize=8)\n",
        "  \n",
        "# Plot de grafiek\n",
        "plt.show()"
      ]
    },
    {
      "cell_type": "markdown",
      "metadata": {
        "id": "xEiHB1d4Bp0w"
      },
      "source": [
        "Het denkproces:\n",
        "\n",
        "- Stap 1: met`.subplots()` definieer ik een grafiek ruimte met andere woorden een `Figure`(fig) object die een `Axes`(ax) object bevat. \n",
        "- Stap 2: vervolgens maak ik gebruik van .plot() methode van ax (wat een instance van `Axes` object is) om een histogram te plotten.\n",
        "- Stap 3: als laatste gebruik ik .set() methode van ax om labels en title toe te voegen aan de plot.\n",
        "\n",
        "Als we meerdere plots willen realiseren kan dat door de parameters nrows of/en ncols van `.subplots()` methode te gebruiken. Wat `.subplots()` eigenlijk doet is dat het een `Figure` object aanmaakt en vervolgens maakt het er een grid van op basis van de waarden van nrows en ncols. Daarna kunnen `Axes` objecten worden toegekend aan de elementen van de grid. Laten we een voorbeeld nemen:"
      ]
    },
    {
      "cell_type": "code",
      "execution_count": null,
      "metadata": {
        "execution": {
          "iopub.execute_input": "2022-06-27T10:40:37.284693Z",
          "iopub.status.busy": "2022-06-27T10:40:37.283970Z",
          "iopub.status.idle": "2022-06-27T10:40:37.864783Z",
          "shell.execute_reply": "2022-06-27T10:40:37.863372Z",
          "shell.execute_reply.started": "2022-06-27T10:40:37.284659Z"
        },
        "trusted": true,
        "id": "lENEyPScBp0x",
        "outputId": "ec9e49a0-b14a-470f-bf67-1902e9202525",
        "colab": {
          "base_uri": "https://localhost:8080/",
          "height": 400
        }
      },
      "outputs": [
        {
          "output_type": "display_data",
          "data": {
            "text/plain": [
              "<Figure size 864x360 with 2 Axes>"
            ],
            "image/png": "[encoded data removed]"
          },
          "metadata": {
            "needs_background": "light"
          }
        }
      ],
      "source": [
        "fig, (ax0, ax1) = plt.subplots(nrows=1, ncols=2, figsize=(12,5))\n",
        "\n",
        "########################################################## Plot 1  ##########################################################\n",
        "\n",
        "ax0.hist(df[\"MedInc\"], bins=50, color=\"#3F5D7D\", edgecolor=\"white\")\n",
        "\n",
        "ax0.set(xlabel='Median inkomen', ylabel='Aantal', title='Median inkomen is rechts-skewed')\n",
        "\n",
        "ax0.spines[\"top\"].set_visible(False)  \n",
        "ax0.spines[\"right\"].set_visible(False)\n",
        "\n",
        "########################################################## Plot 2  ##########################################################\n",
        "\n",
        "ax1.hist(df[\"HouseAge\"], bins=50, color=\"#3F5D7D\", edgecolor=\"white\")\n",
        "\n",
        "ax1.set(xlabel='Leeftijd huis', ylabel='Aantal', title='Verdeling lijkt multimodal')\n",
        "\n",
        "ax1.spines[\"top\"].set_visible(False)  \n",
        "ax1.spines[\"right\"].set_visible(False)\n",
        "\n",
        "# tight_layout() zorgt ervoor dat de plots binnen de figure blijven en dat de ze niet overlappen.\n",
        "fig.tight_layout()\n",
        "\n",
        "fig.text(0.40, -0.05, \"Databron: sklearn.datasets.fetch_california_housing\", fontsize=8)\n",
        "\n",
        "plt.show()"
      ]
    },
    {
      "cell_type": "markdown",
      "metadata": {
        "id": "etykB-7YBp0y"
      },
      "source": [
        "Het denkproces:\n",
        "\n",
        "- Stap 1: met`.subplots(nrows=1, ncols=2)` heb ik een grid van 1*2 aangemaakt waar twee `Axes` objecten aan zijn toegekend.\n",
        "- Stap 2: vervolgens maak ik gebruik van .hist() methode van ax0 om een plot te maken en vervolgens gebruik ik verschillende methoden van de ax0 om de plot te customizen. Voor de tweede plot geldt dezelfde redenatie.\n",
        "- Stap 3: als laatste gebruik ik fig methoden om de grafiek verder op te maken.\n",
        "\n",
        "Maar wat als we meer nadruk willen liggen op een plot door deze groter te maken dan andere plots? Dit is waar we de `GridSpec` module van Matplotlib goed kunnen gebruiken. `GridSpec` maakt ook een grid van de `Figure` object net als `.subplots()` maar wat het anders maakt is dat de eindgebruiker kan bepalen hoeveel elementen van een grids hij/zij wil toekennen aan een `Axes` object."
      ]
    },
    {
      "cell_type": "code",
      "execution_count": null,
      "metadata": {
        "execution": {
          "iopub.execute_input": "2022-06-27T10:40:37.867364Z",
          "iopub.status.busy": "2022-06-27T10:40:37.866574Z",
          "iopub.status.idle": "2022-06-27T10:40:38.387032Z",
          "shell.execute_reply": "2022-06-27T10:40:38.385654Z",
          "shell.execute_reply.started": "2022-06-27T10:40:37.867305Z"
        },
        "trusted": true,
        "id": "Z4CGDOobBp0y",
        "outputId": "cca78700-967c-4497-ffa5-4c33e6a60bb5",
        "colab": {
          "base_uri": "https://localhost:8080/",
          "height": 679
        }
      },
      "outputs": [
        {
          "output_type": "display_data",
          "data": {
            "text/plain": [
              "<Figure size 1440x720 with 3 Axes>"
            ],
            "image/png": "[encoded data removed]"
          },
          "metadata": {
            "needs_background": "light"
          }
        }
      ],
      "source": [
        "from matplotlib import gridspec\n",
        "\n",
        "# Definieer grafiek ruimte met .figure() en gridspec.GridSpec() methoden\n",
        "fig = plt.figure(figsize=(20,10))\n",
        "\n",
        "# Met GridSpec creer ik een grid van 2*2 binnen de fig object\n",
        "spec = gridspec.GridSpec(ncols=2, nrows=2, figure=fig)\n",
        "\n",
        "########################################################## Plot 1  ##########################################################\n",
        "\n",
        "axs0 = fig.add_subplot(spec[0, :])\n",
        "axs0.hist(df[\"MedHouseVal\"], bins=50, color=\"#3F5D7D\", edgecolor=\"white\")\n",
        "\n",
        "axs0.set(xlabel='Median huis waarde', ylabel='Aantal', title='Median huis waarde is rechts skewed')\n",
        "\n",
        "axs0.spines[\"top\"].set_visible(False)  \n",
        "axs0.spines[\"right\"].set_visible(False)\n",
        "\n",
        "########################################################## Plot 2  ##########################################################\n",
        "\n",
        "axs1 = fig.add_subplot(spec[1, 0])\n",
        "axs1.hist(df[\"MedInc\"], bins=50, color=\"#3F5D7D\", edgecolor=\"white\")\n",
        "\n",
        "axs1.set(xlabel='Median inkomen', ylabel='Aantal', title='Median inkomen is rechts skewed')\n",
        "\n",
        "axs1.spines[\"top\"].set_visible(False)  \n",
        "axs1.spines[\"right\"].set_visible(False)\n",
        "\n",
        "########################################################## Plot 3  ##########################################################\n",
        "\n",
        "axs2 = fig.add_subplot(spec[1, 1])\n",
        "axs2.hist(df[\"HouseAge\"], bins=50, color=\"#3F5D7D\", edgecolor=\"white\")\n",
        "\n",
        "axs2.set(xlabel='Leeftijd huis', ylabel='Aantal', title='Verdeling lijkt multimodal')\n",
        "\n",
        "axs2.spines[\"top\"].set_visible(False)  \n",
        "axs2.spines[\"right\"].set_visible(False)\n",
        "\n",
        "fig.tight_layout()\n",
        "\n",
        "fig.text(0.45, -0.05, \"Databron: sklearn.datasets.fetch_california_housing\", fontsize=10)\n",
        "\n",
        "plt.show()"
      ]
    },
    {
      "cell_type": "markdown",
      "metadata": {
        "id": "1w29nN7dBp0z"
      },
      "source": [
        "Het denkproces:\n",
        "\n",
        "- Stap 1: Eerst maak ik een `Figure`(fig) object aan met `plt.figure()`.\n",
        "- Stap 2: Vervolgens gebruik ik `gridspec.GridSpec()` om het `Figure` object op te splitsen in een grid van 2*2. \n",
        "- Stap 3: Met `fig.add_subplot(spec[0, :])` geef ik aan dat mijn eerste plot op de bovenste twee elementen van grids komt.\n",
        "- Stap 4: Met `fig.add_subplot(spec[1, 0])` en `fig.add_subplot(spec[1, 1])` geef ik aan dat mijn tweede en derde plot op de onderste twee elementen van de grid komt.\n",
        "\n",
        "Samenvattend met `Figure`, `Axes` en `.subplots()` kunnen we grafieken structureren en customizen en `gridspec` module geeft de mogelijkheid voor een optimalisatieslag.\n",
        "\n",
        "  \n",
        "### Seaborn plot functies hiërarchie \n",
        "Seaborn is een python library gebouwd op Matlpotlib met een sterke integratie met pandas. Seaborn heeft twee type plot functies namelijk axes-level functies en figure-level functies. Axes-level functies zijn niet heel anders dan matplotlib plot functies. Deze functies retourneren matplotlib objecten dus men kan gebruik maken van matplotlib functionaliteiten om de plots naar eigen smaak op te maken(zie boven). Met figure-level functies kan men met relatief minder code (ten opzichte van axes-level functies) plots maken maar het nadeel is dat je meer code nodig hebt mocht je de plots willen customizen.\n",
        "\n",
        "Verder zit er een hierarchie in de plot functies van seaborn, dat is dat figure-level functies gebruik maken van axes-level functies om grafieken te maken. Het is goed om een voorbeeld te geven. Bijvoorbeeld `relplot(...., kind=\"\", .....)` is een figure-level functie die men kan gebruiken om de relatie tussen variabelen te onderzoeken. Parameter `kind` duidt aan welk type relatie men wil onderzoeken namelijk `scatter` of `line`. Onder de motorkap maakt `relplot()` gebruik van de axes-level functie bijvoorbeeld `scatterplot()` om de relatie tussen twee variabelen te plotten. Hieronder vind je een overzicht van de hierarchie binnen seaborn plot functies. \n",
        "\n",
        "![plot](https://github.com/WTokhi/The-Crowded-Data-Visualization-Sector/blob/master/seaborn_hierarchy.png?raw=1)"
      ]
    },
    {
      "cell_type": "markdown",
      "metadata": {
        "id": "G9GRecloBp0z"
      },
      "source": [
        "Laten we displot() als figure-level en histplot() als axes-level functies als voorbeelden nemen om de verschillen te demonstreren, zie hieronder."
      ]
    },
    {
      "cell_type": "code",
      "execution_count": null,
      "metadata": {
        "id": "o9NbOG2vBp00",
        "outputId": "ad9d5b84-69e7-4aa7-c9a0-738b57601909",
        "colab": {
          "base_uri": "https://localhost:8080/",
          "height": 206
        }
      },
      "outputs": [
        {
          "output_type": "execute_result",
          "data": {
            "text/plain": [
              "   total_bill   tip     sex smoker  day    time  size\n",
              "0       16.99  1.01  Female     No  Sun  Dinner     2\n",
              "1       10.34  1.66    Male     No  Sun  Dinner     3\n",
              "2       21.01  3.50    Male     No  Sun  Dinner     3\n",
              "3       23.68  3.31    Male     No  Sun  Dinner     2\n",
              "4       24.59  3.61  Female     No  Sun  Dinner     4"
            ],
            "text/html": [
              "\n",
              "  <div id=\"df-1931ee57-6feb-4d5c-889f-5eb72dc9a83d\">\n",
              "    <div class=\"colab-df-container\">\n",
              "      <div>\n",
              "<style scoped>\n",
              "    .dataframe tbody tr th:only-of-type {\n",
              "        vertical-align: middle;\n",
              "    }\n",
              "\n",
              "    .dataframe tbody tr th {\n",
              "        vertical-align: top;\n",
              "    }\n",
              "\n",
              "    .dataframe thead th {\n",
              "        text-align: right;\n",
              "    }\n",
              "</style>\n",
              "<table border=\"1\" class=\"dataframe\">\n",
              "  <thead>\n",
              "    <tr style=\"text-align: right;\">\n",
              "      <th></th>\n",
              "      <th>total_bill</th>\n",
              "      <th>tip</th>\n",
              "      <th>sex</th>\n",
              "      <th>smoker</th>\n",
              "      <th>day</th>\n",
              "      <th>time</th>\n",
              "      <th>size</th>\n",
              "    </tr>\n",
              "  </thead>\n",
              "  <tbody>\n",
              "    <tr>\n",
              "      <th>0</th>\n",
              "      <td>16.99</td>\n",
              "      <td>1.01</td>\n",
              "      <td>Female</td>\n",
              "      <td>No</td>\n",
              "      <td>Sun</td>\n",
              "      <td>Dinner</td>\n",
              "      <td>2</td>\n",
              "    </tr>\n",
              "    <tr>\n",
              "      <th>1</th>\n",
              "      <td>10.34</td>\n",
              "      <td>1.66</td>\n",
              "      <td>Male</td>\n",
              "      <td>No</td>\n",
              "      <td>Sun</td>\n",
              "      <td>Dinner</td>\n",
              "      <td>3</td>\n",
              "    </tr>\n",
              "    <tr>\n",
              "      <th>2</th>\n",
              "      <td>21.01</td>\n",
              "      <td>3.50</td>\n",
              "      <td>Male</td>\n",
              "      <td>No</td>\n",
              "      <td>Sun</td>\n",
              "      <td>Dinner</td>\n",
              "      <td>3</td>\n",
              "    </tr>\n",
              "    <tr>\n",
              "      <th>3</th>\n",
              "      <td>23.68</td>\n",
              "      <td>3.31</td>\n",
              "      <td>Male</td>\n",
              "      <td>No</td>\n",
              "      <td>Sun</td>\n",
              "      <td>Dinner</td>\n",
              "      <td>2</td>\n",
              "    </tr>\n",
              "    <tr>\n",
              "      <th>4</th>\n",
              "      <td>24.59</td>\n",
              "      <td>3.61</td>\n",
              "      <td>Female</td>\n",
              "      <td>No</td>\n",
              "      <td>Sun</td>\n",
              "      <td>Dinner</td>\n",
              "      <td>4</td>\n",
              "    </tr>\n",
              "  </tbody>\n",
              "</table>\n",
              "</div>\n",
              "      <button class=\"colab-df-convert\" onclick=\"convertToInteractive('df-1931ee57-6feb-4d5c-889f-5eb72dc9a83d')\"\n",
              "              title=\"Convert this dataframe to an interactive table.\"\n",
              "              style=\"display:none;\">\n",
              "        \n",
              "  <svg xmlns=\"http://www.w3.org/2000/svg\" height=\"24px\"viewBox=\"0 0 24 24\"\n",
              "       width=\"24px\">\n",
              "    <path d=\"M0 0h24v24H0V0z\" fill=\"none\"/>\n",
              "    <path d=\"M18.56 5.44l.94 2.06.94-2.06 2.06-.94-2.06-.94-.94-2.06-.94 2.06-2.06.94zm-11 1L8.5 8.5l.94-2.06 2.06-.94-2.06-.94L8.5 2.5l-.94 2.06-2.06.94zm10 10l.94 2.06.94-2.06 2.06-.94-2.06-.94-.94-2.06-.94 2.06-2.06.94z\"/><path d=\"M17.41 7.96l-1.37-1.37c-.4-.4-.92-.59-1.43-.59-.52 0-1.04.2-1.43.59L10.3 9.45l-7.72 7.72c-.78.78-.78 2.05 0 2.83L4 21.41c.39.39.9.59 1.41.59.51 0 1.02-.2 1.41-.59l7.78-7.78 2.81-2.81c.8-.78.8-2.07 0-2.86zM5.41 20L4 18.59l7.72-7.72 1.47 1.35L5.41 20z\"/>\n",
              "  </svg>\n",
              "      </button>\n",
              "      \n",
              "  <style>\n",
              "    .colab-df-container {\n",
              "      display:flex;\n",
              "      flex-wrap:wrap;\n",
              "      gap: 12px;\n",
              "    }\n",
              "\n",
              "    .colab-df-convert {\n",
              "      background-color: #E8F0FE;\n",
              "      border: none;\n",
              "      border-radius: 50%;\n",
              "      cursor: pointer;\n",
              "      display: none;\n",
              "      fill: #1967D2;\n",
              "      height: 32px;\n",
              "      padding: 0 0 0 0;\n",
              "      width: 32px;\n",
              "    }\n",
              "\n",
              "    .colab-df-convert:hover {\n",
              "      background-color: #E2EBFA;\n",
              "      box-shadow: 0px 1px 2px rgba(60, 64, 67, 0.3), 0px 1px 3px 1px rgba(60, 64, 67, 0.15);\n",
              "      fill: #174EA6;\n",
              "    }\n",
              "\n",
              "    [theme=dark] .colab-df-convert {\n",
              "      background-color: #3B4455;\n",
              "      fill: #D2E3FC;\n",
              "    }\n",
              "\n",
              "    [theme=dark] .colab-df-convert:hover {\n",
              "      background-color: #434B5C;\n",
              "      box-shadow: 0px 1px 3px 1px rgba(0, 0, 0, 0.15);\n",
              "      filter: drop-shadow(0px 1px 2px rgba(0, 0, 0, 0.3));\n",
              "      fill: #FFFFFF;\n",
              "    }\n",
              "  </style>\n",
              "\n",
              "      <script>\n",
              "        const buttonEl =\n",
              "          document.querySelector('#df-1931ee57-6feb-4d5c-889f-5eb72dc9a83d button.colab-df-convert');\n",
              "        buttonEl.style.display =\n",
              "          google.colab.kernel.accessAllowed ? 'block' : 'none';\n",
              "\n",
              "        async function convertToInteractive(key) {\n",
              "          const element = document.querySelector('#df-1931ee57-6feb-4d5c-889f-5eb72dc9a83d');\n",
              "          const dataTable =\n",
              "            await google.colab.kernel.invokeFunction('convertToInteractive',\n",
              "                                                     [key], {});\n",
              "          if (!dataTable) return;\n",
              "\n",
              "          const docLinkHtml = 'Like what you see? Visit the ' +\n",
              "            '<a target=\"_blank\" href=https://colab.research.google.com/notebooks/data_table.ipynb>data table notebook</a>'\n",
              "            + ' to learn more about interactive tables.';\n",
              "          element.innerHTML = '';\n",
              "          dataTable['output_type'] = 'display_data';\n",
              "          await google.colab.output.renderOutput(dataTable, element);\n",
              "          const docLink = document.createElement('div');\n",
              "          docLink.innerHTML = docLinkHtml;\n",
              "          element.appendChild(docLink);\n",
              "        }\n",
              "      </script>\n",
              "    </div>\n",
              "  </div>\n",
              "  "
            ]
          },
          "metadata": {},
          "execution_count": 5
        }
      ],
      "source": [
        "import seaborn as sns\n",
        "\n",
        "#Laad data\n",
        "tips = sns.load_dataset(\"tips\")\n",
        "tips.head(5)"
      ]
    },
    {
      "cell_type": "code",
      "execution_count": null,
      "metadata": {
        "execution": {
          "iopub.execute_input": "2022-06-27T10:40:38.389203Z",
          "iopub.status.busy": "2022-06-27T10:40:38.388722Z",
          "iopub.status.idle": "2022-06-27T10:40:38.893202Z",
          "shell.execute_reply": "2022-06-27T10:40:38.891973Z",
          "shell.execute_reply.started": "2022-06-27T10:40:38.389156Z"
        },
        "trusted": true,
        "id": "bset-LGXBp00",
        "outputId": "95111088-501a-48c4-c6f3-4b386dee55c6",
        "colab": {
          "base_uri": "https://localhost:8080/",
          "height": 387
        }
      },
      "outputs": [
        {
          "output_type": "stream",
          "name": "stdout",
          "text": [
            "object type: <class 'seaborn.axisgrid.FacetGrid'>\n"
          ]
        },
        {
          "output_type": "display_data",
          "data": {
            "text/plain": [
              "<Figure size 360x360 with 1 Axes>"
            ],
            "image/png": "[encoded data removed]"
          },
          "metadata": {
            "needs_background": "light"
          }
        }
      ],
      "source": [
        "figure_level = sns.displot(data=tips, x='total_bill', kind='hist', edgecolor=\"white\")\n",
        "print(f'object type: {type(figure_level)}')"
      ]
    },
    {
      "cell_type": "code",
      "execution_count": null,
      "metadata": {
        "execution": {
          "iopub.execute_input": "2022-06-27T10:40:38.895044Z",
          "iopub.status.busy": "2022-06-27T10:40:38.894566Z",
          "iopub.status.idle": "2022-06-27T10:40:39.191545Z",
          "shell.execute_reply": "2022-06-27T10:40:39.190302Z",
          "shell.execute_reply.started": "2022-06-27T10:40:38.894997Z"
        },
        "trusted": true,
        "id": "pheagjSABp00",
        "outputId": "5ac85d77-36d5-4f1f-a0b8-a53d33513177",
        "colab": {
          "base_uri": "https://localhost:8080/",
          "height": 314
        }
      },
      "outputs": [
        {
          "output_type": "stream",
          "name": "stdout",
          "text": [
            "object type: <class 'matplotlib.axes._subplots.AxesSubplot'>\n"
          ]
        },
        {
          "output_type": "display_data",
          "data": {
            "text/plain": [
              "<Figure size 432x288 with 1 Axes>"
            ],
            "image/png": "[encoded data removed]"
          },
          "metadata": {
            "needs_background": "light"
          }
        }
      ],
      "source": [
        "axes_level = sns.histplot(data=tips, x='total_bill', edgecolor=\"white\")\n",
        "print(f'object type: {type(axes_level)}')\n",
        "\n",
        "# Title van de plot\n",
        "axes_level.set(title='Total bill is rechts skewed')\n",
        "\n",
        "# Plot de grafiek\n",
        "plt.show()"
      ]
    },
    {
      "cell_type": "markdown",
      "metadata": {
        "id": "eDanFZWDBp01"
      },
      "source": [
        "Wat anders is aan de grafieken is de layout en het type object dat geretourneerd wordt. De vraag is nu wat is het nut van een figure-level functie? Wat als je direct axes-level functie gebruikt om een plot te maken? Het antwoord is dat figure-level functies geven de mogelijkheid om meerdere plots in een figure te plotten met minimale inzet. Het is makkelijker om dit te illustereren met een voorbeeld."
      ]
    },
    {
      "cell_type": "code",
      "execution_count": null,
      "metadata": {
        "id": "AuEC5PR5Bp01",
        "outputId": "2b96d8c8-a982-4553-ca54-900893ecc525",
        "colab": {
          "base_uri": "https://localhost:8080/",
          "height": 636
        }
      },
      "outputs": [
        {
          "output_type": "display_data",
          "data": {
            "text/plain": [
              "<Figure size 1440x720 with 8 Axes>"
            ],
            "image/png": "[encoded data removed]"
          },
          "metadata": {
            "needs_background": "light"
          }
        }
      ],
      "source": [
        "g = sns.displot(tips, x=\"total_bill\", col=\"day\", row=\"sex\", facet_kws=dict(margin_titles=True))"
      ]
    },
    {
      "cell_type": "markdown",
      "metadata": {
        "id": "zfLBRlaFBp01"
      },
      "source": [
        "Wat hier gebeurt, is dat displot() onder de motorkap gebruik maakt van seaborn methoden om automatisch een figure met grid te creëren waar subplots worden geplot. Verder wordt de layout ook automatisch opgemaakt en dit allemaal met één regel code. Het produceren van zo'n plot met Matplotlib zou veel meer syntax nodig hebben. Hier zien we ook de sterke integratie met pandas. We geven namelijk een pandas dataframe in als argument. Seaborn gebruikt vervolgens de datastructuur van het dataframe om te plotten. Verder werken Seaborn functies goed met data objecten als numpy and list.\n",
        "\n",
        "### Conclusie\n",
        "\n",
        "In deze blog heb ik weergegeven hoe je met Matplotlib plots kan organiseren en customizen. Echter zijn er meerdere manieren binnen Matplotlib om dit te realiseren. Persoonlijk vind ik Matplotlib syntax-heavy maar desondanks is het handig om het in de basis te snappen omdat andere python libraries hierop gebouwd zijn. Verder heb ik geprobeerd om aan te tonen hoe Seaborn is gebouwd op Matplotlib en hoe de hierarchie er binnen Seaborn plot functies uit ziet.\n",
        "\n",
        "\n",
        "### Referenties\n",
        "\n",
        "- [Effectively using Matplotlib](https://pbpython.com/effective-matplotlib.html)\n",
        "- [Seaborn: statistical data visualization](https://joss.theoj.org/papers/10.21105/joss.03021)\n",
        "- [Overview of seaborn plotting functions](https://seaborn.pydata.org/tutorial/function_overview.html)\n",
        "- [Plot Organization in matplotlib — Your One-stop Guide](https://towardsdatascience.com/plot-organization-in-matplotlib-your-one-stop-guide-if-you-are-reading-this-it-is-probably-f79c2dcbc801)"
      ]
    }
  ],
  "metadata": {
    "kernelspec": {
      "display_name": "Python 3.8.2 ('base')",
      "language": "python",
      "name": "python3"
    },
    "language_info": {
      "codemirror_mode": {
        "name": "ipython",
        "version": 3
      },
      "file_extension": ".py",
      "mimetype": "text/x-python",
      "name": "python",
      "nbconvert_exporter": "python",
      "pygments_lexer": "ipython3",
      "version": "3.8.2"
    },
    "vscode": {
      "interpreter": {
        "hash": "aaaeb5d96bacc40ec9783bd469ef821581b53cb4203a4709705bda69ab82acfd"
      }
    },
    "colab": {
      "name": "The-crowded-data-visualization-sector.ipynb",
      "provenance": [],
      "include_colab_link": true
    }
  },
  "nbformat": 4,
  "nbformat_minor": 0
}